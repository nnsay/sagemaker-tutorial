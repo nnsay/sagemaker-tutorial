{
 "cells": [
  {
   "cell_type": "markdown",
   "metadata": {},
   "source": [
    "该教程来自AWS案例, 点击[这里](https://github.com/aws/amazon-sagemaker-examples/blob/main/autopilot/autopilot_time_series.ipynb)查看原案例代码."
   ]
  },
  {
   "cell_type": "code",
   "execution_count": 7,
   "metadata": {},
   "outputs": [
    {
     "name": "stdout",
     "output_type": "stream",
     "text": [
      "\n",
      "\u001b[1m[\u001b[0m\u001b[34;49mnotice\u001b[0m\u001b[1;39;49m]\u001b[0m\u001b[39;49m A new release of pip is available: \u001b[0m\u001b[31;49m24.0\u001b[0m\u001b[39;49m -> \u001b[0m\u001b[32;49m24.2\u001b[0m\n",
      "\u001b[1m[\u001b[0m\u001b[34;49mnotice\u001b[0m\u001b[1;39;49m]\u001b[0m\u001b[39;49m To update, run: \u001b[0m\u001b[32;49mpip install --upgrade pip\u001b[0m\n",
      "\n",
      "\u001b[1m[\u001b[0m\u001b[34;49mnotice\u001b[0m\u001b[1;39;49m]\u001b[0m\u001b[39;49m A new release of pip is available: \u001b[0m\u001b[31;49m24.0\u001b[0m\u001b[39;49m -> \u001b[0m\u001b[32;49m24.2\u001b[0m\n",
      "\u001b[1m[\u001b[0m\u001b[34;49mnotice\u001b[0m\u001b[1;39;49m]\u001b[0m\u001b[39;49m To update, run: \u001b[0m\u001b[32;49mpip install --upgrade pip\u001b[0m\n"
     ]
    }
   ],
   "source": [
    "# 安装依赖\n",
    "!pip install --upgrade boto3 --quiet\n",
    "!pip install --upgrade sagemaker --quiet"
   ]
  },
  {
   "cell_type": "code",
   "execution_count": 19,
   "metadata": {},
   "outputs": [],
   "source": [
    "# 运行时参数\n",
    "import os\n",
    "\n",
    "os.environ[\"AWS_PROFILE\"] = \"sandbox\""
   ]
  },
  {
   "cell_type": "code",
   "execution_count": 27,
   "metadata": {},
   "outputs": [
    {
     "name": "stdout",
     "output_type": "stream",
     "text": [
      "basic info:  {'region': 'cn-northwest-1', 'bucket': 'sandbox-sagemaker', 'prefix': 'autopilot_time_series', 'role': 'arn:aws-cn:iam::278103880173:role/sandbox-SageMakerExecutorRole'}\n"
     ]
    }
   ],
   "source": [
    "# Setup\n",
    "import sagemaker\n",
    "import boto3\n",
    "from sagemaker import get_execution_role\n",
    "from time import gmtime, strftime, sleep\n",
    "import datetime\n",
    "\n",
    "region = boto3.Session().region_name\n",
    "session = sagemaker.Session()\n",
    "\n",
    "# Modify the following default_bucket to use a bucket of your choosing\n",
    "# bucket = session.default_bucket()\n",
    "bucket = 'sandbox-sagemaker' \n",
    "prefix = 'autopilot_time_series'\n",
    "role = \"arn:aws-cn:iam::278103880173:role/sandbox-SageMakerExecutorRole\"\n",
    "\n",
    "print(\"basic info: \", {\"region\": region, \"bucket\":bucket, \"prefix\": prefix, \"role\": role})\n",
    "# This is the client we will use to interact with SageMaker Autopilot\n",
    "sm = boto3.Session().client(service_name=\"sagemaker\", region_name=region)"
   ]
  },
  {
   "cell_type": "markdown",
   "metadata": {
    "vscode": {
     "languageId": "bat"
    }
   },
   "source": [
    "准备预测数据, 预测数据是一个合成的食品需求清单, 包含以下几列:\n",
    "- product_code (required: ItemIdentifierAttributeName)\n",
    "- product_category (static, categorical feature describing product_code)\n",
    "- product_subcategory (static, categorical feature describing product_code)\n",
    "- location_code (GroupingAttributeNames column to get predictions at product_code + location_code)\n",
    "- scaled_price (covariate)\n",
    "- promotion_email (covariate)\n",
    "- promotion_homepage (covariate)\n",
    "- timestamp (required, TimestampAttributeName)\n",
    "- unit_sales (required: TargetAttributeName)\n",
    "\n",
    "[测试数据](https://amazon-forecast-samples.s3.amazonaws.com/automation_solution/demo-nyctaxi/nyctaxi_weather_auto.csv)已经下载到本地*data*目录, 但是在实际测试发现AutoMLJobV2不支持, 而AutoMLJob又不支持配置缺失数据, 所以用下面的脚本增加缺失数据默认值"
   ]
  },
  {
   "cell_type": "code",
   "execution_count": 64,
   "metadata": {},
   "outputs": [
    {
     "name": "stdout",
     "output_type": "stream",
     "text": [
      "Total missing values in unit_sales after filling: 0\n"
     ]
    },
    {
     "name": "stderr",
     "output_type": "stream",
     "text": [
      "/var/folders/yt/3470fws56wqck_qkbkd3jyx80000gn/T/ipykernel_78078/1868299028.py:14: FutureWarning: A value is trying to be set on a copy of a DataFrame or Series through chained assignment using an inplace method.\n",
      "The behavior will change in pandas 3.0. This inplace method will never work because the intermediate object on which we are setting values always behaves as a copy.\n",
      "\n",
      "For example, when doing 'df[col].method(value, inplace=True)', try using 'df.method({col: value}, inplace=True)' or df[col] = df[col].method(value) instead, to perform the operation inplace on the original object.\n",
      "\n",
      "\n",
      "  df['unit_sales'].fillna(0, inplace=True)\n"
     ]
    }
   ],
   "source": [
    "import pandas as pd\n",
    "import json\n",
    "\n",
    "# Load the dataset\n",
    "df = pd.read_csv('data/real-time-payload.csv')\n",
    "\n",
    "# Check for hidden characters or extra spaces in 'unit_sales' column\n",
    "df['unit_sales'] = df['unit_sales'].apply(lambda x: str(x).strip() if pd.notnull(x) else x)\n",
    "\n",
    "# Convert 'unit_sales' column to numeric, forcing errors to NaN\n",
    "df['unit_sales'] = pd.to_numeric(df['unit_sales'], errors='coerce')\n",
    "\n",
    "# Replace null values with 0\n",
    "df['unit_sales'].fillna(0, inplace=True)\n",
    "\n",
    "# Verify there are no missing values left\n",
    "missing_values = df['unit_sales'].isnull().sum()\n",
    "print(f'Total missing values in unit_sales after filling: {missing_values}')\n",
    "\n",
    "# Save the cleaned dataset\n",
    "df.to_csv('data/default-real-time-payload.csv', index=False)"
   ]
  },
  {
   "cell_type": "code",
   "execution_count": 47,
   "metadata": {},
   "outputs": [],
   "source": [
    "s3 = boto3.client('s3')\n",
    "s3.upload_file('data/default-synthetic-food-demand.csv', bucket, f'{prefix}/data/synthetic-food-demand.csv')"
   ]
  },
  {
   "cell_type": "code",
   "execution_count": 48,
   "metadata": {},
   "outputs": [
    {
     "name": "stdout",
     "output_type": "stream",
     "text": [
      "AutoMLJobName: ts-20240807-094452\n"
     ]
    }
   ],
   "source": [
    "# 模型训练\n",
    "timestamp_suffix = strftime(\"%Y%m%d-%H%M%S\", gmtime())\n",
    "auto_ml_job_name = \"ts-\" + timestamp_suffix\n",
    "print(\"AutoMLJobName: \" + auto_ml_job_name)"
   ]
  },
  {
   "cell_type": "code",
   "execution_count": 53,
   "metadata": {},
   "outputs": [
    {
     "name": "stdout",
     "output_type": "stream",
     "text": [
      "AutoMLJobName: ts-20240807-094452\n",
      "AutoMLJobInputDataConfig: [{\"ChannelType\": \"training\", \"ContentType\": \"text/csv;header=present\", \"CompressionType\": \"None\", \"DataSource\": {\"S3DataSource\": {\"S3DataType\": \"S3Prefix\", \"S3Uri\": \"s3://sandbox-sagemaker/autopilot_time_series/data/\"}}}]\n",
      "OutputDataConfig: {\"S3OutputPath\": \"s3://sandbox-sagemaker/autopilot_time_series/train_output\"}\n",
      "AutoMLProblemTypeConfig: {\"TimeSeriesForecastingJobConfig\": {\"ForecastFrequency\": \"W\", \"ForecastHorizon\": 4, \"ForecastQuantiles\": [\"p50\", \"p60\", \"p70\", \"p80\", \"p90\"], \"Transformations\": {\"Filling\": {\"unit_sales\": {\"middlefill\": \"zero\", \"backfill\": \"zero\"}, \"promotion_email\": {\"middlefill\": \"zero\", \"backfill\": \"zero\", \"futurefill\": \"zero\"}, \"promotion_homepage\": {\"middlefill\": \"zero\", \"backfill\": \"zero\", \"futurefill\": \"zero\"}, \"scaled_price\": {\"middlefill\": \"value\", \"middlefill_value\": \"1\", \"backfill\": \"value\", \"backfill_value\": \"1\", \"futurefill\": \"value\", \"futurefill_value\": \"1\"}}}, \"TimeSeriesConfig\": {\"TargetAttributeName\": \"unit_sales\", \"TimestampAttributeName\": \"timestamp\", \"ItemIdentifierAttributeName\": \"product_code\", \"GroupingAttributeNames\": [\"location_code\"]}}}\n"
     ]
    },
    {
     "ename": "ClientError",
     "evalue": "An error occurred (NotAuthorizedException) when calling the CreateAutoMLJobV2 operation: CreateAutoMLJobV2 API is currently not available for the requested region.",
     "output_type": "error",
     "traceback": [
      "\u001b[0;31m---------------------------------------------------------------------------\u001b[0m",
      "\u001b[0;31mClientError\u001b[0m                               Traceback (most recent call last)",
      "Cell \u001b[0;32mIn[53], line 67\u001b[0m\n\u001b[1;32m     65\u001b[0m \u001b[38;5;28mprint\u001b[39m(\u001b[38;5;124m'\u001b[39m\u001b[38;5;124mAutoMLProblemTypeConfig:\u001b[39m\u001b[38;5;124m'\u001b[39m, json\u001b[38;5;241m.\u001b[39mdumps(automl_problem_type_config))\n\u001b[1;32m     66\u001b[0m \u001b[38;5;66;03m# v2会失败因为当前不支持\u001b[39;00m\n\u001b[0;32m---> 67\u001b[0m \u001b[43msm\u001b[49m\u001b[38;5;241;43m.\u001b[39;49m\u001b[43mcreate_auto_ml_job_v2\u001b[49m\u001b[43m(\u001b[49m\n\u001b[1;32m     68\u001b[0m \u001b[43m    \u001b[49m\u001b[43mAutoMLJobName\u001b[49m\u001b[38;5;241;43m=\u001b[39;49m\u001b[43mauto_ml_job_name\u001b[49m\u001b[43m,\u001b[49m\n\u001b[1;32m     69\u001b[0m \u001b[43m    \u001b[49m\u001b[43mAutoMLJobInputDataConfig\u001b[49m\u001b[38;5;241;43m=\u001b[39;49m\u001b[43minput_data_config\u001b[49m\u001b[43m,\u001b[49m\n\u001b[1;32m     70\u001b[0m \u001b[43m    \u001b[49m\u001b[43mOutputDataConfig\u001b[49m\u001b[38;5;241;43m=\u001b[39;49m\u001b[43moutput_data_config\u001b[49m\u001b[43m,\u001b[49m\n\u001b[1;32m     71\u001b[0m \u001b[43m    \u001b[49m\u001b[43mAutoMLProblemTypeConfig\u001b[49m\u001b[43m \u001b[49m\u001b[38;5;241;43m=\u001b[39;49m\u001b[43m \u001b[49m\u001b[43mautoml_problem_type_config\u001b[49m\u001b[43m,\u001b[49m\n\u001b[1;32m     72\u001b[0m \u001b[43m    \u001b[49m\u001b[43mAutoMLJobObjective\u001b[49m\u001b[38;5;241;43m=\u001b[39;49m\u001b[43moptimizaton_metric_config\u001b[49m\u001b[43m,\u001b[49m\n\u001b[1;32m     73\u001b[0m \u001b[43m    \u001b[49m\u001b[43mRoleArn\u001b[49m\u001b[38;5;241;43m=\u001b[39;49m\u001b[43mrole\u001b[49m\n\u001b[1;32m     74\u001b[0m \u001b[43m)\u001b[49m\n",
      "File \u001b[0;32m~/workspace/nnsay/sagemaker-tutorial/env/lib/python3.12/site-packages/botocore/client.py:565\u001b[0m, in \u001b[0;36mClientCreator._create_api_method.<locals>._api_call\u001b[0;34m(self, *args, **kwargs)\u001b[0m\n\u001b[1;32m    561\u001b[0m     \u001b[38;5;28;01mraise\u001b[39;00m \u001b[38;5;167;01mTypeError\u001b[39;00m(\n\u001b[1;32m    562\u001b[0m         \u001b[38;5;124mf\u001b[39m\u001b[38;5;124m\"\u001b[39m\u001b[38;5;132;01m{\u001b[39;00mpy_operation_name\u001b[38;5;132;01m}\u001b[39;00m\u001b[38;5;124m() only accepts keyword arguments.\u001b[39m\u001b[38;5;124m\"\u001b[39m\n\u001b[1;32m    563\u001b[0m     )\n\u001b[1;32m    564\u001b[0m \u001b[38;5;66;03m# The \"self\" in this scope is referring to the BaseClient.\u001b[39;00m\n\u001b[0;32m--> 565\u001b[0m \u001b[38;5;28;01mreturn\u001b[39;00m \u001b[38;5;28;43mself\u001b[39;49m\u001b[38;5;241;43m.\u001b[39;49m\u001b[43m_make_api_call\u001b[49m\u001b[43m(\u001b[49m\u001b[43moperation_name\u001b[49m\u001b[43m,\u001b[49m\u001b[43m \u001b[49m\u001b[43mkwargs\u001b[49m\u001b[43m)\u001b[49m\n",
      "File \u001b[0;32m~/workspace/nnsay/sagemaker-tutorial/env/lib/python3.12/site-packages/botocore/client.py:1017\u001b[0m, in \u001b[0;36mBaseClient._make_api_call\u001b[0;34m(self, operation_name, api_params)\u001b[0m\n\u001b[1;32m   1013\u001b[0m     error_code \u001b[38;5;241m=\u001b[39m error_info\u001b[38;5;241m.\u001b[39mget(\u001b[38;5;124m\"\u001b[39m\u001b[38;5;124mQueryErrorCode\u001b[39m\u001b[38;5;124m\"\u001b[39m) \u001b[38;5;129;01mor\u001b[39;00m error_info\u001b[38;5;241m.\u001b[39mget(\n\u001b[1;32m   1014\u001b[0m         \u001b[38;5;124m\"\u001b[39m\u001b[38;5;124mCode\u001b[39m\u001b[38;5;124m\"\u001b[39m\n\u001b[1;32m   1015\u001b[0m     )\n\u001b[1;32m   1016\u001b[0m     error_class \u001b[38;5;241m=\u001b[39m \u001b[38;5;28mself\u001b[39m\u001b[38;5;241m.\u001b[39mexceptions\u001b[38;5;241m.\u001b[39mfrom_code(error_code)\n\u001b[0;32m-> 1017\u001b[0m     \u001b[38;5;28;01mraise\u001b[39;00m error_class(parsed_response, operation_name)\n\u001b[1;32m   1018\u001b[0m \u001b[38;5;28;01melse\u001b[39;00m:\n\u001b[1;32m   1019\u001b[0m     \u001b[38;5;28;01mreturn\u001b[39;00m parsed_response\n",
      "\u001b[0;31mClientError\u001b[0m: An error occurred (NotAuthorizedException) when calling the CreateAutoMLJobV2 operation: CreateAutoMLJobV2 API is currently not available for the requested region."
     ]
    }
   ],
   "source": [
    "input_data_config = [\n",
    "    {  \n",
    "      'ChannelType': 'training',\n",
    "      'ContentType': 'text/csv;header=present',\n",
    "      'CompressionType': 'None',\n",
    "      'DataSource': {\n",
    "        'S3DataSource': {\n",
    "          'S3DataType': 'S3Prefix',\n",
    "          'S3Uri': 's3://{}/{}/data/'.format(bucket, prefix),\n",
    "        }\n",
    "      }\n",
    "    }\n",
    "]\n",
    "output_data_config = {'S3OutputPath': 's3://{}/{}/train_output'.format(bucket, prefix)}\n",
    "optimizaton_metric_config = {'MetricName': 'AverageWeightedQuantileLoss'}\n",
    "automl_problem_type_config ={\n",
    "        'TimeSeriesForecastingJobConfig': {\n",
    "            'ForecastFrequency': 'W',\n",
    "            'ForecastHorizon': 4,\n",
    "            'ForecastQuantiles': ['p50','p60','p70','p80','p90'],\n",
    "            'Transformations': {\n",
    "              'Filling': {\n",
    "                  'unit_sales': {\n",
    "                      'middlefill' : 'zero',\n",
    "                      'backfill' : 'zero'\n",
    "                      },\n",
    "                  'promotion_email': {\n",
    "                      'middlefill' : 'zero',\n",
    "                      'backfill' : 'zero',\n",
    "                      'futurefill' : 'zero'\n",
    "                      },\n",
    "                  'promotion_homepage': {\n",
    "                      'middlefill' : 'zero',\n",
    "                      'backfill' : 'zero',\n",
    "                      'futurefill' : 'zero'\n",
    "                      },\n",
    "                  'promotion_email': {\n",
    "                      'middlefill' : 'zero',\n",
    "                      'backfill' : 'zero',\n",
    "                      'futurefill' : 'zero'\n",
    "                      },\n",
    "                  'scaled_price': {\n",
    "                      'middlefill' : 'value',\n",
    "                      'middlefill_value' : '1',\n",
    "                      'backfill' : 'value',\n",
    "                      'backfill_value' : '1',\n",
    "                      'futurefill' : 'value',\n",
    "                      'futurefill_value' : '1'\n",
    "                      }                                \n",
    "              }\n",
    "            },\n",
    "            'TimeSeriesConfig': {\n",
    "                'TargetAttributeName': 'unit_sales',\n",
    "                'TimestampAttributeName': 'timestamp',\n",
    "                'ItemIdentifierAttributeName': 'product_code',\n",
    "                'GroupingAttributeNames': [\n",
    "                    'location_code'\n",
    "                ]\n",
    "            }\n",
    "        }\n",
    "    }\n",
    "print('AutoMLJobName:', auto_ml_job_name)\n",
    "print('AutoMLJobInputDataConfig:', json.dumps(input_data_config))\n",
    "print('OutputDataConfig:', json.dumps(output_data_config))\n",
    "print('AutoMLProblemTypeConfig:', json.dumps(automl_problem_type_config))\n",
    "# v2会失败因为当前不支持\n",
    "sm.create_auto_ml_job_v2(\n",
    "    AutoMLJobName=auto_ml_job_name,\n",
    "    AutoMLJobInputDataConfig=input_data_config,\n",
    "    OutputDataConfig=output_data_config,\n",
    "    AutoMLProblemTypeConfig = automl_problem_type_config,\n",
    "    AutoMLJobObjective=optimizaton_metric_config,\n",
    "    RoleArn=role\n",
    ")"
   ]
  },
  {
   "cell_type": "code",
   "execution_count": 49,
   "metadata": {},
   "outputs": [
    {
     "data": {
      "text/plain": [
       "{'AutoMLJobArn': 'arn:aws-cn:sagemaker:cn-northwest-1:278103880173:automl-job/ts-20240807-094452',\n",
       " 'ResponseMetadata': {'RequestId': 'b00c2fbb-624e-4b80-a1d3-59db6b9a9a35',\n",
       "  'HTTPStatusCode': 200,\n",
       "  'HTTPHeaders': {'x-amzn-requestid': 'b00c2fbb-624e-4b80-a1d3-59db6b9a9a35',\n",
       "   'content-type': 'application/x-amz-json-1.1',\n",
       "   'content-length': '97',\n",
       "   'date': 'Wed, 07 Aug 2024 09:45:21 GMT'},\n",
       "  'RetryAttempts': 0}}"
      ]
     },
     "execution_count": 49,
     "metadata": {},
     "output_type": "execute_result"
    }
   ],
   "source": [
    "sm.create_auto_ml_job(\n",
    "        AutoMLJobName=auto_ml_job_name,\n",
    "        InputDataConfig=[\n",
    "            {\n",
    "                \"DataSource\": {\n",
    "                    \"S3DataSource\": {\n",
    "                        \"S3DataType\": \"S3Prefix\",\n",
    "                        \"S3Uri\": 's3://{}/{}/data/'.format(bucket, prefix),\n",
    "                    }\n",
    "                },\n",
    "                \"TargetAttributeName\": 'unit_sales',\n",
    "            }\n",
    "        ],\n",
    "        OutputDataConfig={\"S3OutputPath\": 's3://{}/{}/train_output'.format(bucket, prefix)},\n",
    "        ProblemType='Regression',\n",
    "        AutoMLJobObjective={\"MetricName\": 'RMSE'},\n",
    "        AutoMLJobConfig={\n",
    "            \"CompletionCriteria\": {\n",
    "                \"MaxCandidates\": 3,\n",
    "            }\n",
    "        },\n",
    "        RoleArn=role,\n",
    "    )"
   ]
  },
  {
   "cell_type": "code",
   "execution_count": 52,
   "metadata": {},
   "outputs": [
    {
     "name": "stdout",
     "output_type": "stream",
     "text": [
      "2024-08-07 18:04:27.919453 InProgress - ModelTuning\n",
      "2024-08-07 18:05:28.181418 InProgress - MergingAutoMLTaskReports\n",
      "2024-08-07 18:06:28.449782 InProgress - MergingAutoMLTaskReports\n",
      "2024-08-07 18:07:28.725700 InProgress - MergingAutoMLTaskReports\n",
      "2024-08-07 18:08:29.004358 InProgress - MergingAutoMLTaskReports\n",
      "2024-08-07 18:09:29.238844 InProgress - MergingAutoMLTaskReports\n",
      "2024-08-07 18:10:29.665221 InProgress - MergingAutoMLTaskReports\n",
      "2024-08-07 18:11:30.186460 InProgress - MergingAutoMLTaskReports\n",
      "2024-08-07 18:12:30.489103 InProgress - MergingAutoMLTaskReports\n",
      "2024-08-07 18:13:30.797315 Completed - Completed\n"
     ]
    }
   ],
   "source": [
    "describe_response = sm.describe_auto_ml_job(AutoMLJobName=auto_ml_job_name)\n",
    "job_run_status = describe_response[\"AutoMLJobStatus\"]\n",
    "\n",
    "while job_run_status not in (\"Failed\", \"Completed\", \"Stopped\"):\n",
    "    describe_response = sm.describe_auto_ml_job(AutoMLJobName=auto_ml_job_name)\n",
    "    job_run_status = describe_response[\"AutoMLJobStatus\"]\n",
    "\n",
    "    print(\n",
    "       datetime.datetime.now(), describe_response[\"AutoMLJobStatus\"] + \" - \" + describe_response[\"AutoMLJobSecondaryStatus\"]\n",
    "    )\n",
    "    sleep(60)"
   ]
  },
  {
   "cell_type": "markdown",
   "metadata": {},
   "source": [
    "一旦训练完成, 就可以通过训练输出创建模型, 具体操作如下:"
   ]
  },
  {
   "cell_type": "code",
   "execution_count": 56,
   "metadata": {},
   "outputs": [
    {
     "name": "stdout",
     "output_type": "stream",
     "text": [
      "BestCandidateName: ts-20240807-094452v5E6DFA4YDBQ0K-003-d14cb079\n",
      "BestCandidateContainers: [{'Image': '451049120500.dkr.ecr.cn-northwest-1.amazonaws.com.cn/sagemaker-sklearn-automl:2.5-1-cpu-py3', 'ModelDataUrl': 's3://sandbox-sagemaker/autopilot_time_series/train_output/ts-20240807-094452/data-processor-models/ts-20240807-094452-dpp1-1-f4188cb5af2c4ef0b97bbe68a5c881941bff9/output/model.tar.gz', 'Environment': {'AUTOML_SPARSE_ENCODE_RECORDIO_PROTOBUF': '1', 'AUTOML_TRANSFORM_MODE': 'feature-transform', 'SAGEMAKER_DEFAULT_INVOCATIONS_ACCEPT': 'application/x-recordio-protobuf', 'SAGEMAKER_PROGRAM': 'sagemaker_serve', 'SAGEMAKER_SUBMIT_DIRECTORY': '/opt/ml/model/code'}}, {'Image': '451049120500.dkr.ecr.cn-northwest-1.amazonaws.com.cn/sagemaker-xgboost:1.3-1-cpu-py3', 'ModelDataUrl': 's3://sandbox-sagemaker/autopilot_time_series/train_output/ts-20240807-094452/tuning/ts-2024080-dpp1-xgb/ts-20240807-094452v5E6DFA4YDBQ0K-003-d14cb079/output/model.tar.gz', 'Environment': {'MAX_CONTENT_LENGTH': '20971520', 'SAGEMAKER_DEFAULT_INVOCATIONS_ACCEPT': 'text/csv'}}]\n"
     ]
    }
   ],
   "source": [
    "best_candidate = sm.describe_auto_ml_job(AutoMLJobName=auto_ml_job_name)['BestCandidate']\n",
    "best_candidate_containers = best_candidate['InferenceContainers'] \n",
    "best_candidate_name = best_candidate['CandidateName']\n",
    "\n",
    "print('BestCandidateName:',best_candidate_name)\n",
    "print('BestCandidateContainers:',best_candidate_containers)\n",
    "reponse = sm.create_model(\n",
    "  ModelName = best_candidate_name,\n",
    "  ExecutionRoleArn = role,\n",
    "  Containers = best_candidate_containers\n",
    ")"
   ]
  },
  {
   "cell_type": "code",
   "execution_count": 57,
   "metadata": {},
   "outputs": [],
   "source": [
    "endpoint_config_name = f\"epc-{best_candidate_name}\"\n",
    "endpoint_name = f\"ep-{best_candidate_name}\"\n",
    "\n",
    "production_variants = [\n",
    "        {\n",
    "            \"InstanceType\": \"ml.m5.2xlarge\",\n",
    "            \"InitialInstanceCount\": 1,\n",
    "            \"ModelName\": best_candidate_name,\n",
    "            \"VariantName\": \"AllTraffic\",\n",
    "        }\n",
    "    ]\n",
    "# 创建模型端点配置\n",
    "epc_response = sm.create_endpoint_config(\n",
    "    EndpointConfigName=endpoint_config_name,\n",
    "    ProductionVariants=production_variants\n",
    ")"
   ]
  },
  {
   "cell_type": "code",
   "execution_count": 58,
   "metadata": {},
   "outputs": [
    {
     "data": {
      "text/plain": [
       "{'EndpointArn': 'arn:aws-cn:sagemaker:cn-northwest-1:278103880173:endpoint/ep-ts-20240807-094452v5E6DFA4YDBQ0K-003-d14cb079',\n",
       " 'ResponseMetadata': {'RequestId': 'dc294cc6-9db1-4fe7-b753-a081407dbaf7',\n",
       "  'HTTPStatusCode': 200,\n",
       "  'HTTPHeaders': {'x-amzn-requestid': 'dc294cc6-9db1-4fe7-b753-a081407dbaf7',\n",
       "   'content-type': 'application/x-amz-json-1.1',\n",
       "   'content-length': '124',\n",
       "   'date': 'Wed, 07 Aug 2024 10:37:02 GMT'},\n",
       "  'RetryAttempts': 0}}"
      ]
     },
     "execution_count": 58,
     "metadata": {},
     "output_type": "execute_result"
    }
   ],
   "source": [
    "# 创建模型端点\n",
    "sm.create_endpoint(\n",
    "    EndpointName=endpoint_name, \n",
    "    EndpointConfigName=endpoint_config_name)"
   ]
  },
  {
   "cell_type": "code",
   "execution_count": 59,
   "metadata": {},
   "outputs": [
    {
     "name": "stdout",
     "output_type": "stream",
     "text": [
      "2024-08-07 18:38:29.151752 Creating\n",
      "2024-08-07 18:39:29.409315 Creating\n",
      "2024-08-07 18:40:29.645523 Creating\n",
      "2024-08-07 18:41:29.912827 InService\n"
     ]
    }
   ],
   "source": [
    "# 检查模型端点ready状态\n",
    "describe_response = sm.describe_endpoint(EndpointName=endpoint_name)\n",
    "\n",
    "job_run_status = describe_response[\"EndpointStatus\"]\n",
    "\n",
    "while job_run_status not in (\"Failed\", \"InService\", \"Stopped\"):\n",
    "    describe_response = sm.describe_endpoint(EndpointName=endpoint_name)\n",
    "    job_run_status = describe_response[\"EndpointStatus\"]\n",
    "\n",
    "    print(\n",
    "       datetime.datetime.now(), describe_response[\"EndpointStatus\"])\n",
    "    sleep(60)"
   ]
  },
  {
   "cell_type": "markdown",
   "metadata": {},
   "source": [
    "端点服务创建完毕就可以使用少了实时样例数据进行预测, 具体实现参考以下脚本\n",
    "注意: \n",
    "- 样例数据构造一个[假的](https://amazon-forecast-samples.s3.amazonaws.com/autopilot/real-time-payload.csv), 真的数据可以来自业务\n",
    "- 样例数据结构必须和训练的**数据数据结构一样**"
   ]
  },
  {
   "cell_type": "code",
   "execution_count": 67,
   "metadata": {},
   "outputs": [
    {
     "ename": "ModelError",
     "evalue": "An error occurred (ModelError) when calling the InvokeEndpoint operation: Received client error (400) from container-2 and could not load the entire response body. See https://cn-northwest-1.console.aws.amazon.com/cloudwatch/home?region=cn-northwest-1#logEventViewer:group=/aws/sagemaker/Endpoints/ep-ts-20240807-094452v5E6DFA4YDBQ0K-003-d14cb079 in account 278103880173 for more information.",
     "output_type": "error",
     "traceback": [
      "\u001b[0;31m---------------------------------------------------------------------------\u001b[0m",
      "\u001b[0;31mModelError\u001b[0m                                Traceback (most recent call last)",
      "Cell \u001b[0;32mIn[67], line 9\u001b[0m\n\u001b[1;32m      7\u001b[0m \u001b[38;5;66;03m# 使用sagemaker-runtime进行调用\u001b[39;00m\n\u001b[1;32m      8\u001b[0m sm_client \u001b[38;5;241m=\u001b[39m boto3\u001b[38;5;241m.\u001b[39mclient(\u001b[38;5;124m'\u001b[39m\u001b[38;5;124msagemaker-runtime\u001b[39m\u001b[38;5;124m'\u001b[39m)\n\u001b[0;32m----> 9\u001b[0m response \u001b[38;5;241m=\u001b[39m \u001b[43msm_client\u001b[49m\u001b[38;5;241;43m.\u001b[39;49m\u001b[43minvoke_endpoint\u001b[49m\u001b[43m(\u001b[49m\n\u001b[1;32m     10\u001b[0m \u001b[43m    \u001b[49m\u001b[43mEndpointName\u001b[49m\u001b[38;5;241;43m=\u001b[39;49m\u001b[43m \u001b[49m\u001b[43mendpoint_name\u001b[49m\u001b[43m,\u001b[49m\n\u001b[1;32m     11\u001b[0m \u001b[43m    \u001b[49m\u001b[43mBody\u001b[49m\u001b[38;5;241;43m=\u001b[39;49m\u001b[43m \u001b[49m\u001b[43minference_data\u001b[49m\u001b[43m,\u001b[49m\n\u001b[1;32m     12\u001b[0m \u001b[43m    \u001b[49m\u001b[43mContentType\u001b[49m\u001b[43m \u001b[49m\u001b[38;5;241;43m=\u001b[39;49m\u001b[43m \u001b[49m\u001b[38;5;124;43m'\u001b[39;49m\u001b[38;5;124;43mtext/csv\u001b[39;49m\u001b[38;5;124;43m'\u001b[39;49m\n\u001b[1;32m     13\u001b[0m \u001b[43m)\u001b[49m\n\u001b[1;32m     14\u001b[0m prediction \u001b[38;5;241m=\u001b[39m response[\u001b[38;5;124m'\u001b[39m\u001b[38;5;124mBody\u001b[39m\u001b[38;5;124m'\u001b[39m]\u001b[38;5;241m.\u001b[39mread()\u001b[38;5;241m.\u001b[39mdecode()\n\u001b[1;32m     16\u001b[0m \u001b[38;5;66;03m# 将结果写入文件\u001b[39;00m\n",
      "File \u001b[0;32m~/workspace/nnsay/sagemaker-tutorial/env/lib/python3.12/site-packages/botocore/client.py:565\u001b[0m, in \u001b[0;36mClientCreator._create_api_method.<locals>._api_call\u001b[0;34m(self, *args, **kwargs)\u001b[0m\n\u001b[1;32m    561\u001b[0m     \u001b[38;5;28;01mraise\u001b[39;00m \u001b[38;5;167;01mTypeError\u001b[39;00m(\n\u001b[1;32m    562\u001b[0m         \u001b[38;5;124mf\u001b[39m\u001b[38;5;124m\"\u001b[39m\u001b[38;5;132;01m{\u001b[39;00mpy_operation_name\u001b[38;5;132;01m}\u001b[39;00m\u001b[38;5;124m() only accepts keyword arguments.\u001b[39m\u001b[38;5;124m\"\u001b[39m\n\u001b[1;32m    563\u001b[0m     )\n\u001b[1;32m    564\u001b[0m \u001b[38;5;66;03m# The \"self\" in this scope is referring to the BaseClient.\u001b[39;00m\n\u001b[0;32m--> 565\u001b[0m \u001b[38;5;28;01mreturn\u001b[39;00m \u001b[38;5;28;43mself\u001b[39;49m\u001b[38;5;241;43m.\u001b[39;49m\u001b[43m_make_api_call\u001b[49m\u001b[43m(\u001b[49m\u001b[43moperation_name\u001b[49m\u001b[43m,\u001b[49m\u001b[43m \u001b[49m\u001b[43mkwargs\u001b[49m\u001b[43m)\u001b[49m\n",
      "File \u001b[0;32m~/workspace/nnsay/sagemaker-tutorial/env/lib/python3.12/site-packages/botocore/client.py:1017\u001b[0m, in \u001b[0;36mBaseClient._make_api_call\u001b[0;34m(self, operation_name, api_params)\u001b[0m\n\u001b[1;32m   1013\u001b[0m     error_code \u001b[38;5;241m=\u001b[39m error_info\u001b[38;5;241m.\u001b[39mget(\u001b[38;5;124m\"\u001b[39m\u001b[38;5;124mQueryErrorCode\u001b[39m\u001b[38;5;124m\"\u001b[39m) \u001b[38;5;129;01mor\u001b[39;00m error_info\u001b[38;5;241m.\u001b[39mget(\n\u001b[1;32m   1014\u001b[0m         \u001b[38;5;124m\"\u001b[39m\u001b[38;5;124mCode\u001b[39m\u001b[38;5;124m\"\u001b[39m\n\u001b[1;32m   1015\u001b[0m     )\n\u001b[1;32m   1016\u001b[0m     error_class \u001b[38;5;241m=\u001b[39m \u001b[38;5;28mself\u001b[39m\u001b[38;5;241m.\u001b[39mexceptions\u001b[38;5;241m.\u001b[39mfrom_code(error_code)\n\u001b[0;32m-> 1017\u001b[0m     \u001b[38;5;28;01mraise\u001b[39;00m error_class(parsed_response, operation_name)\n\u001b[1;32m   1018\u001b[0m \u001b[38;5;28;01melse\u001b[39;00m:\n\u001b[1;32m   1019\u001b[0m     \u001b[38;5;28;01mreturn\u001b[39;00m parsed_response\n",
      "\u001b[0;31mModelError\u001b[0m: An error occurred (ModelError) when calling the InvokeEndpoint operation: Received client error (400) from container-2 and could not load the entire response body. See https://cn-northwest-1.console.aws.amazon.com/cloudwatch/home?region=cn-northwest-1#logEventViewer:group=/aws/sagemaker/Endpoints/ep-ts-20240807-094452v5E6DFA4YDBQ0K-003-d14cb079 in account 278103880173 for more information."
     ]
    }
   ],
   "source": [
    "# 读取实时数据\n",
    "input_file = 'data/default-real-time-payload.csv'\n",
    "f=open(input_file,'r')\n",
    "inference_data = f.read()\n",
    "f.close()\n",
    "\n",
    "# 使用sagemaker-runtime进行调用\n",
    "sm_client = boto3.client('sagemaker-runtime')\n",
    "response = sm_client.invoke_endpoint(\n",
    "    EndpointName= endpoint_name,\n",
    "    Body= inference_data,\n",
    "    ContentType = 'text/csv'\n",
    ")\n",
    "prediction = response['Body'].read().decode()\n",
    "\n",
    "# 将结果写入文件\n",
    "output_file = 'output/real-time-prediction-output.csv'\n",
    "f=open(output_file,'w')\n",
    "f.write(prediction)\n",
    "f.close()"
   ]
  },
  {
   "cell_type": "code",
   "execution_count": null,
   "metadata": {},
   "outputs": [],
   "source": []
  }
 ],
 "metadata": {
  "kernelspec": {
   "display_name": "env",
   "language": "python",
   "name": "python3"
  },
  "language_info": {
   "codemirror_mode": {
    "name": "ipython",
    "version": 3
   },
   "file_extension": ".py",
   "mimetype": "text/x-python",
   "name": "python",
   "nbconvert_exporter": "python",
   "pygments_lexer": "ipython3",
   "version": "3.12.4"
  }
 },
 "nbformat": 4,
 "nbformat_minor": 2
}
