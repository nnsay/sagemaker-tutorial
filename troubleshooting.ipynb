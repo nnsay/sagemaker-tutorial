{
 "cells": [
  {
   "cell_type": "code",
   "execution_count": 2,
   "metadata": {},
   "outputs": [
    {
     "name": "stdout",
     "output_type": "stream",
     "text": [
      "训练数据列名: ['product_code', 'product_category', 'product_subcategory', 'location_code', 'scaled_price', 'promotion_email', 'promotion_homepage', 'timestamp', 'unit_sales']\n",
      "训练数据列数: 9\n",
      "训练数据中的缺失值：\n",
      "product_code           0\n",
      "product_category       0\n",
      "product_subcategory    0\n",
      "location_code          0\n",
      "scaled_price           0\n",
      "promotion_email        0\n",
      "promotion_homepage     0\n",
      "timestamp              0\n",
      "unit_sales             0\n",
      "dtype: int64\n",
      "预测数据列名: ['product_code', 'product_category', 'product_subcategory', 'location_code', 'scaled_price', 'promotion_email', 'promotion_homepage', 'timestamp', 'unit_sales']\n",
      "预测数据列数: 9\n",
      "预测数据中的缺失值：\n",
      "product_code           0\n",
      "product_category       0\n",
      "product_subcategory    0\n",
      "location_code          0\n",
      "scaled_price           0\n",
      "promotion_email        0\n",
      "promotion_homepage     0\n",
      "timestamp              0\n",
      "unit_sales             0\n",
      "dtype: int64\n"
     ]
    }
   ],
   "source": [
    "import pandas as pd\n",
    "\n",
    "# 加载训练数据和预测数据\n",
    "train_df = pd.read_csv('data/default-synthetic-food-demand.csv')\n",
    "predict_df = pd.read_csv('data/default-real-time-payload.csv')\n",
    "\n",
    "# 打印列名和列数\n",
    "print(f\"训练数据列名: {list(train_df.columns)}\")\n",
    "print(f\"训练数据列数: {train_df.shape[1]}\")\n",
    "print(\"训练数据中的缺失值：\")\n",
    "print(train_df.isnull().sum())\n",
    "\n",
    "print(f\"预测数据列名: {list(predict_df.columns)}\")\n",
    "print(f\"预测数据列数: {predict_df.shape[1]}\")\n",
    "print(\"预测数据中的缺失值：\")\n",
    "print(predict_df.isnull().sum())"
   ]
  },
  {
   "cell_type": "code",
   "execution_count": 15,
   "metadata": {},
   "outputs": [
    {
     "name": "stdout",
     "output_type": "stream",
     "text": [
      "训练数据列数: 435\n",
      "预测数据列数: 435\n"
     ]
    }
   ],
   "source": [
    "import pandas as pd\n",
    "from sklearn.preprocessing import OneHotEncoder\n",
    "\n",
    "column = 'unit_sales'\n",
    "# 加载训练数据和预测数据\n",
    "train_df = pd.read_csv('data/default-synthetic-food-demand.csv')\n",
    "predict_df = pd.read_csv('data/default-real-time-payload.csv')\n",
    "\n",
    "# 独热编码\n",
    "encoder = OneHotEncoder(handle_unknown='ignore')\n",
    "\n",
    "# 对训练数据进行独热编码\n",
    "train_encoded = encoder.fit_transform(train_df[[column]])\n",
    "train_encoded_df = pd.DataFrame(train_encoded.toarray(), columns=encoder.get_feature_names_out([column]))\n",
    "\n",
    "# 对预测数据进行相同的独热编码\n",
    "predict_encoded = encoder.transform(predict_df[[column]])\n",
    "predict_encoded_df = pd.DataFrame(predict_encoded.toarray(), columns=encoder.get_feature_names_out([column]))\n",
    "\n",
    "# 删除原始的product_subcategory列，并添加独热编码后的列\n",
    "train_df = train_df.drop(columns=[column]).join(train_encoded_df)\n",
    "predict_df = predict_df.drop(columns=[column]).join(predict_encoded_df)\n",
    "\n",
    "print(f\"训练数据列数: {train_df.shape[1]}\")\n",
    "print(f\"预测数据列数: {predict_df.shape[1]}\")\n",
    "assert train_df.shape[1] == predict_df.shape[1], \"训练和预测数据的特征数量不一致\""
   ]
  },
  {
   "cell_type": "code",
   "execution_count": null,
   "metadata": {},
   "outputs": [],
   "source": []
  }
 ],
 "metadata": {
  "kernelspec": {
   "display_name": "env",
   "language": "python",
   "name": "python3"
  },
  "language_info": {
   "codemirror_mode": {
    "name": "ipython",
    "version": 3
   },
   "file_extension": ".py",
   "mimetype": "text/x-python",
   "name": "python",
   "nbconvert_exporter": "python",
   "pygments_lexer": "ipython3",
   "version": "3.12.4"
  }
 },
 "nbformat": 4,
 "nbformat_minor": 2
}
